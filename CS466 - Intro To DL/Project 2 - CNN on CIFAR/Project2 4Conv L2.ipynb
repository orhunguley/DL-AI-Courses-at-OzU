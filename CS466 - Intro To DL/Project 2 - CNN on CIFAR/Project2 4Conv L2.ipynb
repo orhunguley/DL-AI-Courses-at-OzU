{
 "cells": [
  {
   "cell_type": "code",
   "execution_count": 1,
   "metadata": {},
   "outputs": [],
   "source": [
    "%matplotlib inline\n",
    "import matplotlib.pyplot as plt\n",
    "import tensorflow as tf\n",
    "import numpy as np\n",
    "import time\n",
    "from datetime import timedelta\n",
    "import math\n",
    "import os\n",
    "# Use PrettyTensor to simplify Neural Network construction.\n",
    "#import prettytensor as pt"
   ]
  },
  {
   "cell_type": "code",
   "execution_count": 2,
   "metadata": {},
   "outputs": [],
   "source": [
    "import cifar10"
   ]
  },
  {
   "cell_type": "code",
   "execution_count": 3,
   "metadata": {},
   "outputs": [],
   "source": [
    "# cifar10.data_path = \"data/CIFAR-10/\""
   ]
  },
  {
   "cell_type": "code",
   "execution_count": 4,
   "metadata": {
    "scrolled": true
   },
   "outputs": [
    {
     "name": "stdout",
     "output_type": "stream",
     "text": [
      "Data has apparently already been downloaded and unpacked.\n"
     ]
    }
   ],
   "source": [
    "cifar10.maybe_download_and_extract()"
   ]
  },
  {
   "cell_type": "markdown",
   "metadata": {},
   "source": [
    "Load the class-names."
   ]
  },
  {
   "cell_type": "code",
   "execution_count": 5,
   "metadata": {},
   "outputs": [
    {
     "name": "stdout",
     "output_type": "stream",
     "text": [
      "Loading data: data/CIFAR-10/cifar-10-batches-py/batches.meta\n"
     ]
    },
    {
     "data": {
      "text/plain": [
       "['airplane',\n",
       " 'automobile',\n",
       " 'bird',\n",
       " 'cat',\n",
       " 'deer',\n",
       " 'dog',\n",
       " 'frog',\n",
       " 'horse',\n",
       " 'ship',\n",
       " 'truck']"
      ]
     },
     "execution_count": 5,
     "metadata": {},
     "output_type": "execute_result"
    }
   ],
   "source": [
    "class_names = cifar10.load_class_names()\n",
    "class_names"
   ]
  },
  {
   "cell_type": "markdown",
   "metadata": {},
   "source": [
    "Load the training-set. This returns the images, the class-numbers as integers, and the class-numbers as One-Hot encoded arrays called labels."
   ]
  },
  {
   "cell_type": "code",
   "execution_count": 6,
   "metadata": {},
   "outputs": [
    {
     "name": "stdout",
     "output_type": "stream",
     "text": [
      "Loading data: data/CIFAR-10/cifar-10-batches-py/data_batch_1\n",
      "Loading data: data/CIFAR-10/cifar-10-batches-py/data_batch_2\n",
      "Loading data: data/CIFAR-10/cifar-10-batches-py/data_batch_3\n",
      "Loading data: data/CIFAR-10/cifar-10-batches-py/data_batch_4\n",
      "Loading data: data/CIFAR-10/cifar-10-batches-py/data_batch_5\n"
     ]
    }
   ],
   "source": [
    "images_train, cls_train, labels_train = cifar10.load_training_data()"
   ]
  },
  {
   "cell_type": "markdown",
   "metadata": {},
   "source": [
    "Load the test-set."
   ]
  },
  {
   "cell_type": "code",
   "execution_count": 7,
   "metadata": {},
   "outputs": [
    {
     "name": "stdout",
     "output_type": "stream",
     "text": [
      "Loading data: data/CIFAR-10/cifar-10-batches-py/test_batch\n"
     ]
    }
   ],
   "source": [
    "images_test, cls_test, labels_test = cifar10.load_test_data()"
   ]
  },
  {
   "cell_type": "markdown",
   "metadata": {},
   "source": [
    "The CIFAR-10 data-set has now been loaded and consists of 60,000 images and associated labels (i.e. classifications of the images). The data-set is split into 2 mutually exclusive sub-sets, the training-set and the test-set."
   ]
  },
  {
   "cell_type": "code",
   "execution_count": 8,
   "metadata": {
    "scrolled": true
   },
   "outputs": [
    {
     "name": "stdout",
     "output_type": "stream",
     "text": [
      "Size of:\n",
      "- Training-set:\t\t50000\n",
      "- Test-set:\t\t10000\n"
     ]
    }
   ],
   "source": [
    "print(\"Size of:\")\n",
    "print(\"- Training-set:\\t\\t{}\".format(len(images_train)))\n",
    "print(\"- Test-set:\\t\\t{}\".format(len(images_test)))"
   ]
  },
  {
   "cell_type": "code",
   "execution_count": 9,
   "metadata": {},
   "outputs": [
    {
     "name": "stdout",
     "output_type": "stream",
     "text": [
      "Image size: 32\n",
      "Number of channels: 3\n",
      "Number of classes: 10\n"
     ]
    }
   ],
   "source": [
    "from cifar10 import img_size, num_channels, num_classes\n",
    "print(\"Image size:\" , img_size)\n",
    "print(\"Number of channels:\" , num_channels)\n",
    "print(\"Number of classes:\" , num_classes)"
   ]
  },
  {
   "cell_type": "code",
   "execution_count": 10,
   "metadata": {},
   "outputs": [],
   "source": [
    "def var(name, shape, init=None, std=None):\n",
    "    if init is None:\n",
    "        if std is None:\n",
    "            std = (2./shape[0])**0.5\n",
    "        init = tf.truncated_normal_initializer(stddev=std)\n",
    "    return tf.get_variable(name=name, shape=shape, \n",
    "                           dtype=tf.float32, initializer=init)\n",
    "\n",
    "def conv(X, f, strides=[1, 1, 1, 1], padding='SAME'):\n",
    "    return tf.nn.conv2d(X, f, strides, padding)\n",
    "\n",
    "def max_pool(X, ksize=[1, 2, 2, 1], strides=[1, 2, 2, 1], padding='SAME'):\n",
    "    return tf.nn.max_pool(X, ksize, strides, padding)"
   ]
  },
  {
   "cell_type": "code",
   "execution_count": 11,
   "metadata": {},
   "outputs": [],
   "source": [
    "g = tf.Graph()\n",
    "with g.as_default():\n",
    "    X = tf.placeholder(dtype=tf.float32, shape=[None, img_size,img_size,num_channels], name='x')\n",
    "    \n",
    "    Y = tf.placeholder(dtype=tf.float32, shape=[None, num_classes], name='y_true')\n",
    "    I = tf.reshape(X, [-1, img_size,img_size, num_channels])\n",
    "    \n",
    "    \n",
    "    #Conv Layer 1\n",
    "    W1 = var('W1', [5,5, 3, 64])\n",
    "    b1 = var('b1', [64])\n",
    "    out1 = tf.nn.relu(conv(I, W1) + b1)\n",
    "    out1 = max_pool(out1)\n",
    "    \n",
    "    #Conv Layer 2\n",
    "    W2 = var('W2', [5,5, 64, 128])\n",
    "    b2 = var('b2', [128])\n",
    "    out2 = tf.nn.relu(conv(out1, W2) + b2)\n",
    "    out2 = max_pool(out2)\n",
    "    \n",
    "    #Conv Layer 3\n",
    "    W3 = var('W3', [5,5, 128, 256])\n",
    "    b3 = var('b3', [256])\n",
    "    out3 = tf.nn.relu(conv(out2, W3) + b3)\n",
    "    out3 = max_pool(out3)\n",
    "    \n",
    "    #Conv Layer 4\n",
    "    W4 = var('W4', [5,5, 256, 128])\n",
    "    b4 = var('b4', [128])\n",
    "    out4 = tf.nn.relu(conv(out3, W4) + b4)\n",
    "    out4 = max_pool(out4)\n",
    "    \n",
    "    \n",
    "    \n",
    "    flatten = tf.reshape(out4, [-1, 2*2*128])\n",
    "    \n",
    "    #Fully Connected Layer\n",
    "    W5 = var('W5',[2*2*128, 128])\n",
    "    b5 = var('b5',[128])\n",
    "    out5 = tf.nn.relu( tf.matmul(flatten ,W5) + b5 )\n",
    "    \n",
    "    # Output layer\n",
    "    W6 = var('W6',[128,10])\n",
    "    b6 = var('b6',[10])\n",
    "    logits = tf.matmul(out5, W6) + b6\n",
    "    \n",
    "    \n",
    "    \n",
    "    pred = tf.argmax(logits, axis=1)\n",
    "    truth = tf.argmax(Y, axis=1)\n",
    "    acc = tf.reduce_mean(\n",
    "    tf.cast(tf.equal(pred,truth),tf.float32))\n",
    "    \n",
    "    s_loss = tf.nn.softmax_cross_entropy_with_logits_v2(\n",
    "    logits=logits, labels=Y)\n",
    "    loss = tf.reduce_mean(s_loss)\n",
    "    \n",
    "    weights = tf.trainable_variables()\n",
    "    \n",
    "    #l2_regularizer = tf.nn.l2_loss(weights)\n",
    "    l2_regularizer =  tf.nn.l2_loss(W1) + tf.nn.l2_loss(W2) + tf.nn.l2_loss(W3) + tf.nn.l2_loss(W4)+ tf.nn.l2_loss(W5)+ tf.nn.l2_loss(W6)\n",
    "    loss = tf.reduce_mean(loss + 0.01 * l2_regularizer)\n",
    "    \n",
    "    \n",
    "    \n",
    "    \n",
    "    #L1\n",
    "    #l1_regularizer = tf.contrib.layers.l1_regularizer(scale=0.05)\n",
    "    #regularization_penalty = tf.contrib.layers.apply_regularization(l1_regularizer, weights)\n",
    "    #regularized_loss = loss + regularization_penalty # this loss needs to be minimized\n",
    "    \n",
    "    \n",
    "    \n",
    "    step = tf.train.AdamOptimizer().minimize(loss)\n",
    "    \n",
    "    #l1_regularizer = tf.contrib.layers.l1_regularizer()\n",
    "    \n",
    "    #regularization_penalty = tf.contrib.layers.apply_regularization(l1_regularizer, W4)\n",
    "    #regularized_loss = loss + regularization_penalty # this loss needs to be minimized\n",
    "    \n",
    "\n",
    "\n"
   ]
  },
  {
   "cell_type": "code",
   "execution_count": 12,
   "metadata": {},
   "outputs": [],
   "source": [
    "def random_batch():\n",
    "    # Number of images in the training-set.\n",
    "    num_images = len(images_train)\n",
    "\n",
    "    # Create a random index.\n",
    "    idx = np.random.choice(num_images,\n",
    "                           size=batch_size,\n",
    "                           replace=False)\n",
    "\n",
    "    # Use the random index to select random images and labels.\n",
    "    x_batch = images_train[idx, :, :, :]\n",
    "    y_batch = labels_train[idx, :]\n",
    "\n",
    "    return x_batch, y_batch"
   ]
  },
  {
   "cell_type": "code",
   "execution_count": 13,
   "metadata": {},
   "outputs": [],
   "source": [
    "#saver = tf.train.Saver()\n",
    "\n",
    "sess = tf.InteractiveSession(graph=g)\n",
    "tf.global_variables_initializer().run()\n",
    "\n",
    "\n",
    "batch_size = 100\n",
    "rows =  len(images_train)\n",
    "num_epochs = 100\n",
    "iter = int(rows/batch_size)\n",
    "\n",
    "nonzero_weights=[]\n",
    "acc_train=[]\n",
    "acc_test=[]\n"
   ]
  },
  {
   "cell_type": "code",
   "execution_count": 14,
   "metadata": {},
   "outputs": [],
   "source": [
    "def run_test():\n",
    "    \n",
    "    a = 500\n",
    "    accuracy = 0\n",
    "    while a <= 10000:\n",
    "        accuracy +=sess.run(acc,feed_dict={X:images_test[a-500:a,:,:,:],\n",
    "                                          Y:labels_test[a-500:a,:]})\n",
    "        a = a+500\n",
    "\n",
    "\n",
    "    accuracy = accuracy / 20\n",
    "\n",
    "    return accuracy"
   ]
  },
  {
   "cell_type": "code",
   "execution_count": 15,
   "metadata": {},
   "outputs": [
    {
     "name": "stdout",
     "output_type": "stream",
     "text": [
      "Accuracy for train set in epoch  1 :  0.3019400008991361  || loss :  4690.5984125976565\n",
      "Accuracy for test set in epoch  1 :  0.34100000113248824 \n",
      "\n",
      "Accuracy for train set in epoch  2 :  0.31274000085145237  || loss :  2914.9715864257814\n",
      "Accuracy for test set in epoch  2 :  0.10099999979138374 \n",
      "\n",
      "Accuracy for train set in epoch  3 :  0.10267999976128339  || loss :  2533.7776103515625\n",
      "Accuracy for test set in epoch  3 :  0.10040000006556511 \n",
      "\n",
      "Accuracy for train set in epoch  4 :  0.0987400000244379  || loss :  2405.7437451171877\n",
      "Accuracy for test set in epoch  4 :  0.10030000023543835 \n",
      "\n",
      "Accuracy for train set in epoch  5 :  0.10111999998614192  || loss :  2276.7524794921874\n",
      "Accuracy for test set in epoch  5 :  0.10049999952316284 \n",
      "\n",
      "Accuracy for train set in epoch  6 :  0.10039999994263053  || loss :  2147.08862890625\n",
      "Accuracy for test set in epoch  6 :  0.10029999986290931 \n",
      "\n",
      "Accuracy for train set in epoch  7 :  0.10198000001907348  || loss :  2016.6667775878907\n",
      "Accuracy for test set in epoch  7 :  0.10040000006556511 \n",
      "\n",
      "Accuracy for train set in epoch  8 :  0.09795999981090427  || loss :  1885.2192407226562\n",
      "Accuracy for test set in epoch  8 :  0.10029999986290931 \n",
      "\n",
      "Accuracy for train set in epoch  9 :  0.10149999994784593  || loss :  1752.5206708984374\n",
      "Accuracy for test set in epoch  9 :  0.1000999990850687 \n",
      "\n",
      "Accuracy for train set in epoch  10 :  0.09973999985307455  || loss :  1618.4247624511718\n",
      "Accuracy for test set in epoch  10 :  0.10019999966025353 \n",
      "\n",
      "Accuracy for train set in epoch  11 :  0.1023000000230968  || loss :  1482.9599372558594\n",
      "Accuracy for test set in epoch  11 :  0.10009999945759773 \n",
      "\n",
      "Accuracy for train set in epoch  12 :  0.10044000018760561  || loss :  1346.3454448242187\n",
      "Accuracy for test set in epoch  12 :  0.09999999925494193 \n",
      "\n",
      "Accuracy for train set in epoch  13 :  0.1010199997201562  || loss :  1209.0226987304688\n",
      "Accuracy for test set in epoch  13 :  0.10009999945759773 \n",
      "\n",
      "Accuracy for train set in epoch  14 :  0.10005999994277955  || loss :  1071.8579829101564\n",
      "Accuracy for test set in epoch  14 :  0.09999999925494193 \n",
      "\n",
      "Accuracy for train set in epoch  15 :  0.10263999988138675  || loss :  936.0070845947265\n",
      "Accuracy for test set in epoch  15 :  0.10020000003278255 \n",
      "\n",
      "Accuracy for train set in epoch  16 :  0.09891999987140297  || loss :  803.0810228271484\n",
      "Accuracy for test set in epoch  16 :  0.1 \n",
      "\n",
      "Accuracy for train set in epoch  17 :  0.09984000013396144  || loss :  675.0220732421875\n",
      "Accuracy for test set in epoch  17 :  0.1 \n",
      "\n",
      "Accuracy for train set in epoch  18 :  0.10079999978467823  || loss :  554.0130462646484\n",
      "Accuracy for test set in epoch  18 :  0.09979999996721745 \n",
      "\n",
      "Accuracy for train set in epoch  19 :  0.10179999989271164  || loss :  442.4379608154297\n",
      "Accuracy for test set in epoch  19 :  0.10000000074505806 \n",
      "\n",
      "Accuracy for train set in epoch  20 :  0.10069999995827675  || loss :  342.49680297851563\n",
      "Accuracy for test set in epoch  20 :  0.10000000037252903 \n",
      "\n",
      "Accuracy for train set in epoch  21 :  0.10003999974578619  || loss :  256.0095511169434\n",
      "Accuracy for test set in epoch  21 :  0.10000000037252903 \n",
      "\n",
      "Accuracy for train set in epoch  22 :  0.1026599999293685  || loss :  184.08078314208984\n",
      "Accuracy for test set in epoch  22 :  0.09999999888241291 \n",
      "\n",
      "Accuracy for train set in epoch  23 :  0.10207999980822205  || loss :  126.90984855651855\n",
      "Accuracy for test set in epoch  23 :  0.1 \n",
      "\n",
      "Accuracy for train set in epoch  24 :  0.1030600002296269  || loss :  83.72181988525391\n",
      "Accuracy for test set in epoch  24 :  0.1 \n",
      "\n",
      "Accuracy for train set in epoch  25 :  0.10183999975398182  || loss :  52.89391419219971\n",
      "Accuracy for test set in epoch  25 :  0.1 \n",
      "\n",
      "Accuracy for train set in epoch  26 :  0.09940000016242266  || loss :  32.21974589920044\n",
      "Accuracy for test set in epoch  26 :  0.09999999962747097 \n",
      "\n",
      "Accuracy for train set in epoch  27 :  0.0987999999448657  || loss :  19.418121732711793\n",
      "Accuracy for test set in epoch  27 :  0.1 \n",
      "\n",
      "Accuracy for train set in epoch  28 :  0.0973199998550117  || loss :  11.690691249847411\n",
      "Accuracy for test set in epoch  28 :  0.10000000037252903 \n",
      "\n",
      "Accuracy for train set in epoch  29 :  0.10130000000074506  || loss :  7.366052222251892\n",
      "Accuracy for test set in epoch  29 :  0.1 \n",
      "\n",
      "Accuracy for train set in epoch  30 :  0.10115999978780746  || loss :  5.058417782783509\n",
      "Accuracy for test set in epoch  30 :  0.08580000046640635 \n",
      "\n",
      "Accuracy for train set in epoch  31 :  0.328359999474138  || loss :  3.4697177362442018\n",
      "Accuracy for test set in epoch  31 :  0.47080000042915343 \n",
      "\n",
      "Accuracy for train set in epoch  32 :  0.49521999740600586  || loss :  2.591005310058594\n",
      "Accuracy for test set in epoch  32 :  0.530100004374981 \n",
      "\n",
      "Accuracy for train set in epoch  33 :  0.5456999968290329  || loss :  2.2211386599540712\n",
      "Accuracy for test set in epoch  33 :  0.580100005865097 \n",
      "\n",
      "Accuracy for train set in epoch  34 :  0.586139998614788  || loss :  1.9759318602085114\n",
      "Accuracy for test set in epoch  34 :  0.610300001502037 \n",
      "\n",
      "Accuracy for train set in epoch  35 :  0.6089599992632866  || loss :  1.8276058974266052\n",
      "Accuracy for test set in epoch  35 :  0.6294999986886978 \n",
      "\n",
      "Accuracy for train set in epoch  36 :  0.6300000005960464  || loss :  1.7084200987815856\n",
      "Accuracy for test set in epoch  36 :  0.6395000040531158 \n",
      "\n",
      "Accuracy for train set in epoch  37 :  0.64298000061512  || loss :  1.6182704186439514\n",
      "Accuracy for test set in epoch  37 :  0.6502999931573867 \n",
      "\n",
      "Accuracy for train set in epoch  38 :  0.6564000002741813  || loss :  1.559421775341034\n",
      "Accuracy for test set in epoch  38 :  0.6440999984741211 \n",
      "\n",
      "Accuracy for train set in epoch  39 :  0.6647600002288818  || loss :  1.4976681532859801\n",
      "Accuracy for test set in epoch  39 :  0.6675000011920929 \n",
      "\n",
      "Accuracy for train set in epoch  40 :  0.6703800007104873  || loss :  1.4555322501659393\n",
      "Accuracy for test set in epoch  40 :  0.6773999959230423 \n",
      "\n",
      "Accuracy for train set in epoch  41 :  0.6816800012588501  || loss :  1.406652836561203\n",
      "Accuracy for test set in epoch  41 :  0.6634000062942504 \n",
      "\n",
      "Accuracy for train set in epoch  42 :  0.6858400006294251  || loss :  1.3902552995681763\n",
      "Accuracy for test set in epoch  42 :  0.6526000022888183 \n",
      "\n",
      "Accuracy for train set in epoch  43 :  0.6871400015354157  || loss :  1.3736485631465911\n",
      "Accuracy for test set in epoch  43 :  0.6862999975681305 \n",
      "\n",
      "Accuracy for train set in epoch  44 :  0.6890400018692017  || loss :  1.361909970998764\n",
      "Accuracy for test set in epoch  44 :  0.6636000007390976 \n",
      "\n",
      "Accuracy for train set in epoch  45 :  0.688740002155304  || loss :  1.3422990264892578\n",
      "Accuracy for test set in epoch  45 :  0.6952000021934509 \n",
      "\n",
      "Accuracy for train set in epoch  46 :  0.6987800006866455  || loss :  1.3268586330413819\n",
      "Accuracy for test set in epoch  46 :  0.6852999985218048 \n",
      "\n",
      "Accuracy for train set in epoch  47 :  0.6951000007390976  || loss :  1.3272422850131989\n",
      "Accuracy for test set in epoch  47 :  0.6856999903917312 \n",
      "\n",
      "Accuracy for train set in epoch  48 :  0.7019400024414062  || loss :  1.3070985414981842\n",
      "Accuracy for test set in epoch  48 :  0.6896000027656555 \n",
      "\n",
      "Accuracy for train set in epoch  49 :  0.7038800016641616  || loss :  1.2985647399425506\n",
      "Accuracy for test set in epoch  49 :  0.6810999989509583 \n",
      "\n",
      "Accuracy for train set in epoch  50 :  0.7063600019216537  || loss :  1.293866814851761\n",
      "Accuracy for test set in epoch  50 :  0.7105000019073486 \n",
      "\n",
      "Accuracy for train set in epoch  51 :  0.7108200011253357  || loss :  1.2788501522541047\n",
      "Accuracy for test set in epoch  51 :  0.7093999981880188 \n",
      "\n",
      "Accuracy for train set in epoch  52 :  0.7093000020980835  || loss :  1.2833327746391296\n",
      "Accuracy for test set in epoch  52 :  0.6912999957799911 \n",
      "\n",
      "Accuracy for train set in epoch  53 :  0.7126400018930436  || loss :  1.269277238368988\n",
      "Accuracy for test set in epoch  53 :  0.6872999995946885 \n",
      "\n",
      "Accuracy for train set in epoch  54 :  0.7175000023841858  || loss :  1.2585838036537171\n",
      "Accuracy for test set in epoch  54 :  0.6951999932527542 \n",
      "\n",
      "Accuracy for train set in epoch  55 :  0.7179000020027161  || loss :  1.253888388991356\n",
      "Accuracy for test set in epoch  55 :  0.6942999929189682 \n",
      "\n",
      "Accuracy for train set in epoch  56 :  0.7176000020503998  || loss :  1.2623101407289505\n",
      "Accuracy for test set in epoch  56 :  0.6836999982595444 \n",
      "\n",
      "Accuracy for train set in epoch  57 :  0.724900000333786  || loss :  1.236714124917984\n",
      "Accuracy for test set in epoch  57 :  0.7036999940872193 \n",
      "\n"
     ]
    },
    {
     "name": "stdout",
     "output_type": "stream",
     "text": [
      "Accuracy for train set in epoch  58 :  0.7239000006914139  || loss :  1.2465868883132936\n",
      "Accuracy for test set in epoch  58 :  0.6989999890327454 \n",
      "\n",
      "Accuracy for train set in epoch  59 :  0.7187400007247925  || loss :  1.251894716501236\n",
      "Accuracy for test set in epoch  59 :  0.6950999945402145 \n",
      "\n",
      "Accuracy for train set in epoch  60 :  0.7259600007534027  || loss :  1.23868439245224\n",
      "Accuracy for test set in epoch  60 :  0.7074999928474426 \n",
      "\n",
      "Accuracy for train set in epoch  61 :  0.7261000013351441  || loss :  1.2319184013605118\n",
      "Accuracy for test set in epoch  61 :  0.6596000045537949 \n",
      "\n",
      "Accuracy for train set in epoch  62 :  0.723280001282692  || loss :  1.2355168418884277\n",
      "Accuracy for test set in epoch  62 :  0.6858999937772751 \n",
      "\n",
      "Accuracy for train set in epoch  63 :  0.7301000006198883  || loss :  1.2271346739530564\n",
      "Accuracy for test set in epoch  63 :  0.6993000000715256 \n",
      "\n",
      "Accuracy for train set in epoch  64 :  0.7281000018119812  || loss :  1.2285697877407074\n",
      "Accuracy for test set in epoch  64 :  0.7185000002384185 \n",
      "\n",
      "Accuracy for train set in epoch  65 :  0.7249600007534027  || loss :  1.2328011375665664\n",
      "Accuracy for test set in epoch  65 :  0.6814999997615814 \n",
      "\n",
      "Accuracy for train set in epoch  66 :  0.7318799999952317  || loss :  1.2195167005062104\n",
      "Accuracy for test set in epoch  66 :  0.688099992275238 \n",
      "\n",
      "Accuracy for train set in epoch  67 :  0.7298400008678436  || loss :  1.2216803501844407\n",
      "Accuracy for test set in epoch  67 :  0.7087000012397766 \n",
      "\n",
      "Accuracy for train set in epoch  68 :  0.7325399992465973  || loss :  1.2171639132499694\n",
      "Accuracy for test set in epoch  68 :  0.715599998831749 \n",
      "\n",
      "Accuracy for train set in epoch  69 :  0.7323600008487702  || loss :  1.2196844134330749\n",
      "Accuracy for test set in epoch  69 :  0.6986000031232834 \n",
      "\n",
      "Accuracy for train set in epoch  70 :  0.7308800007104874  || loss :  1.2222605805397033\n",
      "Accuracy for test set in epoch  70 :  0.7106000065803528 \n",
      "\n",
      "Accuracy for train set in epoch  71 :  0.7339000000953674  || loss :  1.2137791802883149\n",
      "Accuracy for test set in epoch  71 :  0.7044000029563904 \n",
      "\n",
      "Accuracy for train set in epoch  72 :  0.7385800025463104  || loss :  1.2018087421655654\n",
      "Accuracy for test set in epoch  72 :  0.7121000051498413 \n",
      "\n",
      "Accuracy for train set in epoch  73 :  0.7387400008440018  || loss :  1.2021923162937165\n",
      "Accuracy for test set in epoch  73 :  0.6891999959945678 \n",
      "\n",
      "Accuracy for train set in epoch  74 :  0.7364400006532669  || loss :  1.2068011486530303\n",
      "Accuracy for test set in epoch  74 :  0.7116999983787536 \n",
      "\n",
      "Accuracy for train set in epoch  75 :  0.7358000003099442  || loss :  1.2074838498830796\n",
      "Accuracy for test set in epoch  75 :  0.70799999833107 \n",
      "\n",
      "Accuracy for train set in epoch  76 :  0.7370200004577637  || loss :  1.2106503596305846\n",
      "Accuracy for test set in epoch  76 :  0.714699998497963 \n",
      "\n",
      "Accuracy for train set in epoch  77 :  0.7354799995422363  || loss :  1.2110003490447998\n",
      "Accuracy for test set in epoch  77 :  0.6720999956130982 \n",
      "\n",
      "Accuracy for train set in epoch  78 :  0.736040000796318  || loss :  1.2056954063177108\n",
      "Accuracy for test set in epoch  78 :  0.7242999970912933 \n",
      "\n",
      "Accuracy for train set in epoch  79 :  0.7368600015640259  || loss :  1.2062050631046295\n",
      "Accuracy for test set in epoch  79 :  0.7155000001192093 \n",
      "\n",
      "Accuracy for train set in epoch  80 :  0.7363000016212463  || loss :  1.2119279347658158\n",
      "Accuracy for test set in epoch  80 :  0.7170000046491622 \n",
      "\n",
      "Accuracy for train set in epoch  81 :  0.7385200008153915  || loss :  1.1985465005636216\n",
      "Accuracy for test set in epoch  81 :  0.7073000013828278 \n",
      "\n",
      "Accuracy for train set in epoch  82 :  0.738100000500679  || loss :  1.2002740226984023\n",
      "Accuracy for test set in epoch  82 :  0.6919000059366226 \n",
      "\n",
      "Accuracy for train set in epoch  83 :  0.7382800011634827  || loss :  1.1968089824914931\n",
      "Accuracy for test set in epoch  83 :  0.7288000077009201 \n",
      "\n",
      "Accuracy for train set in epoch  84 :  0.7405599999427795  || loss :  1.1942354588508606\n",
      "Accuracy for test set in epoch  84 :  0.6937999993562698 \n",
      "\n",
      "Accuracy for train set in epoch  85 :  0.7392000007629395  || loss :  1.2012730016708375\n",
      "Accuracy for test set in epoch  85 :  0.7109999984502793 \n",
      "\n",
      "Accuracy for train set in epoch  86 :  0.7398600009679794  || loss :  1.196407654762268\n",
      "Accuracy for test set in epoch  86 :  0.6803999930620194 \n",
      "\n",
      "Accuracy for train set in epoch  87 :  0.7370000009536744  || loss :  1.2031436940431595\n",
      "Accuracy for test set in epoch  87 :  0.7208999991416931 \n",
      "\n",
      "Accuracy for train set in epoch  88 :  0.7419400005340576  || loss :  1.1962982618808746\n",
      "Accuracy for test set in epoch  88 :  0.7280000060796737 \n",
      "\n",
      "Accuracy for train set in epoch  89 :  0.7387400002479553  || loss :  1.2000448327064515\n",
      "Accuracy for test set in epoch  89 :  0.717399999499321 \n",
      "\n",
      "Accuracy for train set in epoch  90 :  0.736520000576973  || loss :  1.2024466797113418\n",
      "Accuracy for test set in epoch  90 :  0.6986000001430511 \n",
      "\n",
      "Accuracy for train set in epoch  91 :  0.7399800002574921  || loss :  1.2002027252912522\n",
      "Accuracy for test set in epoch  91 :  0.7203000038862228 \n",
      "\n",
      "Accuracy for train set in epoch  92 :  0.7400000005960464  || loss :  1.2029106032848358\n",
      "Accuracy for test set in epoch  92 :  0.727700001001358 \n",
      "\n",
      "Accuracy for train set in epoch  93 :  0.7417600005865097  || loss :  1.1949161409139633\n",
      "Accuracy for test set in epoch  93 :  0.7125999987125397 \n",
      "\n",
      "Accuracy for train set in epoch  94 :  0.743779999613762  || loss :  1.191567687034607\n",
      "Accuracy for test set in epoch  94 :  0.6695000022649765 \n",
      "\n",
      "Accuracy for train set in epoch  95 :  0.7441600005626678  || loss :  1.1931415797472\n",
      "Accuracy for test set in epoch  95 :  0.7236999988555908 \n",
      "\n",
      "Accuracy for train set in epoch  96 :  0.740700001001358  || loss :  1.1997082422971725\n",
      "Accuracy for test set in epoch  96 :  0.7214000016450882 \n",
      "\n",
      "Accuracy for train set in epoch  97 :  0.7406799994707107  || loss :  1.1974639538526535\n",
      "Accuracy for test set in epoch  97 :  0.7157000005245209 \n",
      "\n",
      "Accuracy for train set in epoch  98 :  0.7464000018835067  || loss :  1.190329941034317\n",
      "Accuracy for test set in epoch  98 :  0.7250000029802323 \n",
      "\n",
      "Accuracy for train set in epoch  99 :  0.7424599999189376  || loss :  1.1949208374023437\n",
      "Accuracy for test set in epoch  99 :  0.7096999883651733 \n",
      "\n",
      "Accuracy for train set in epoch  100 :  0.7416200000047684  || loss :  1.1954950897693635\n",
      "Accuracy for test set in epoch  100 :  0.7126999944448471 \n",
      "\n"
     ]
    }
   ],
   "source": [
    "for epoch in range(num_epochs):\n",
    "    epoch_acc = 0\n",
    "    epoch_loss = 0\n",
    "    \n",
    "    for i in range(iter):\n",
    "        \n",
    "        x_batch, y_batch =  random_batch()\n",
    "        _, l,a,w1,w2,w3,w4 = sess.run([step,loss, acc,W1,W2,W3,W4], feed_dict={X:x_batch, Y:y_batch})\n",
    "        \n",
    "        \n",
    "        \n",
    "        epoch_acc += a\n",
    "        epoch_loss += l\n",
    "        \n",
    "    \n",
    "    \n",
    "    zeroweights = (w1.size + w2.size + w3.size + w4.size) - (np.count_nonzero(w1) + np.count_nonzero(w2) + np.count_nonzero(w3) + np.count_nonzero(w4))\n",
    "    nonzero_weights.append(zeroweights)\n",
    "    a_test = run_test()\n",
    "    acc_train.append(epoch_acc / iter)\n",
    "    acc_test.append(a_test)\n",
    "    print(\"Accuracy for train set in epoch \", epoch+1, \": \" , epoch_acc / iter ,\" || loss : \" ,epoch_loss / iter\n",
    "          ,end='\\n')\n",
    "    print(\"Accuracy for test set in epoch \", epoch+1, \": \" , a_test ,'\\n',end='\\n')\n",
    "\n",
    "\n",
    "    #saver.save(sess,'./')\n",
    "            "
   ]
  },
  {
   "cell_type": "markdown",
   "metadata": {},
   "source": [
    "# Graphs"
   ]
  },
  {
   "cell_type": "code",
   "execution_count": 16,
   "metadata": {},
   "outputs": [
    {
     "data": {
      "image/png": "[encoded data removed]",
      "text/plain": [
       "<Figure size 432x288 with 1 Axes>"
      ]
     },
     "metadata": {},
     "output_type": "display_data"
    }
   ],
   "source": [
    "e = np.arange(1,num_epochs+1)\n",
    "plt.plot(e,acc_train)\n",
    "plt.plot(e,acc_test)\n",
    "plt.xlabel(\"Number of Epochs\")\n",
    "plt.ylabel(\"Accuracy\")\n",
    "\n",
    "plt.legend(['Train Accuracy', 'Test Accuracy'], loc='lower right')\n",
    "\n",
    "plt.show()"
   ]
  },
  {
   "cell_type": "code",
   "execution_count": 22,
   "metadata": {},
   "outputs": [
    {
     "name": "stdout",
     "output_type": "stream",
     "text": [
      "Maximum accuracy reached in the  82 th epoch: % 72.88000077009201\n"
     ]
    }
   ],
   "source": [
    "print(\"Maximum accuracy reached in the \" , np.argmax(acc_test), \"th epoch: %\",np.amax(acc_test)*100)"
   ]
  },
  {
   "cell_type": "code",
   "execution_count": 17,
   "metadata": {},
   "outputs": [
    {
     "data": {
      "image/png": "[encoded data removed]",
      "text/plain": [
       "<Figure size 432x288 with 1 Axes>"
      ]
     },
     "metadata": {},
     "output_type": "display_data"
    }
   ],
   "source": [
    "plt.plot(e,nonzero_weights)\n",
    "\n",
    "plt.xlabel(\"Number of Epochs\")\n",
    "plt.ylabel(\"# of Zero Weights\")\n",
    "\n",
    "plt.show()"
   ]
  },
  {
   "cell_type": "code",
   "execution_count": null,
   "metadata": {},
   "outputs": [],
   "source": []
  }
 ],
 "metadata": {
  "anaconda-cloud": {},
  "kernelspec": {
   "display_name": "Python 3",
   "language": "python",
   "name": "python3"
  },
  "language_info": {
   "codemirror_mode": {
    "name": "ipython",
    "version": 3
   },
   "file_extension": ".py",
   "mimetype": "text/x-python",
   "name": "python",
   "nbconvert_exporter": "python",
   "pygments_lexer": "ipython3",
   "version": "3.6.7"
  }
 },
 "nbformat": 4,
 "nbformat_minor": 1
}
