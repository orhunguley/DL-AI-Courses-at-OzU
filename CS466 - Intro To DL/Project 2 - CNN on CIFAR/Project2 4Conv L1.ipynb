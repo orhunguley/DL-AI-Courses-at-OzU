{
 "cells": [
  {
   "cell_type": "code",
   "execution_count": 1,
   "metadata": {},
   "outputs": [],
   "source": [
    "%matplotlib inline\n",
    "import matplotlib.pyplot as plt\n",
    "import tensorflow as tf\n",
    "import numpy as np\n",
    "import time\n",
    "from datetime import timedelta\n",
    "import math\n",
    "import os\n",
    "# Use PrettyTensor to simplify Neural Network construction.\n",
    "#import prettytensor as pt"
   ]
  },
  {
   "cell_type": "code",
   "execution_count": 2,
   "metadata": {},
   "outputs": [],
   "source": [
    "import cifar10"
   ]
  },
  {
   "cell_type": "code",
   "execution_count": 3,
   "metadata": {},
   "outputs": [],
   "source": [
    "# cifar10.data_path = \"data/CIFAR-10/\""
   ]
  },
  {
   "cell_type": "code",
   "execution_count": 4,
   "metadata": {
    "scrolled": true
   },
   "outputs": [
    {
     "name": "stdout",
     "output_type": "stream",
     "text": [
      "Data has apparently already been downloaded and unpacked.\n"
     ]
    }
   ],
   "source": [
    "cifar10.maybe_download_and_extract()"
   ]
  },
  {
   "cell_type": "markdown",
   "metadata": {},
   "source": [
    "Load the class-names."
   ]
  },
  {
   "cell_type": "code",
   "execution_count": 5,
   "metadata": {},
   "outputs": [
    {
     "name": "stdout",
     "output_type": "stream",
     "text": [
      "Loading data: data/CIFAR-10/cifar-10-batches-py/batches.meta\n"
     ]
    },
    {
     "data": {
      "text/plain": [
       "['airplane',\n",
       " 'automobile',\n",
       " 'bird',\n",
       " 'cat',\n",
       " 'deer',\n",
       " 'dog',\n",
       " 'frog',\n",
       " 'horse',\n",
       " 'ship',\n",
       " 'truck']"
      ]
     },
     "execution_count": 5,
     "metadata": {},
     "output_type": "execute_result"
    }
   ],
   "source": [
    "class_names = cifar10.load_class_names()\n",
    "class_names"
   ]
  },
  {
   "cell_type": "markdown",
   "metadata": {},
   "source": [
    "Load the training-set. This returns the images, the class-numbers as integers, and the class-numbers as One-Hot encoded arrays called labels."
   ]
  },
  {
   "cell_type": "code",
   "execution_count": 6,
   "metadata": {},
   "outputs": [
    {
     "name": "stdout",
     "output_type": "stream",
     "text": [
      "Loading data: data/CIFAR-10/cifar-10-batches-py/data_batch_1\n",
      "Loading data: data/CIFAR-10/cifar-10-batches-py/data_batch_2\n",
      "Loading data: data/CIFAR-10/cifar-10-batches-py/data_batch_3\n",
      "Loading data: data/CIFAR-10/cifar-10-batches-py/data_batch_4\n",
      "Loading data: data/CIFAR-10/cifar-10-batches-py/data_batch_5\n"
     ]
    }
   ],
   "source": [
    "images_train, cls_train, labels_train = cifar10.load_training_data()"
   ]
  },
  {
   "cell_type": "markdown",
   "metadata": {},
   "source": [
    "Load the test-set."
   ]
  },
  {
   "cell_type": "code",
   "execution_count": 7,
   "metadata": {},
   "outputs": [
    {
     "name": "stdout",
     "output_type": "stream",
     "text": [
      "Loading data: data/CIFAR-10/cifar-10-batches-py/test_batch\n"
     ]
    }
   ],
   "source": [
    "images_test, cls_test, labels_test = cifar10.load_test_data()"
   ]
  },
  {
   "cell_type": "markdown",
   "metadata": {},
   "source": [
    "The CIFAR-10 data-set has now been loaded and consists of 60,000 images and associated labels (i.e. classifications of the images). The data-set is split into 2 mutually exclusive sub-sets, the training-set and the test-set."
   ]
  },
  {
   "cell_type": "code",
   "execution_count": 8,
   "metadata": {
    "scrolled": true
   },
   "outputs": [
    {
     "name": "stdout",
     "output_type": "stream",
     "text": [
      "Size of:\n",
      "- Training-set:\t\t50000\n",
      "- Test-set:\t\t10000\n"
     ]
    }
   ],
   "source": [
    "print(\"Size of:\")\n",
    "print(\"- Training-set:\\t\\t{}\".format(len(images_train)))\n",
    "print(\"- Test-set:\\t\\t{}\".format(len(images_test)))"
   ]
  },
  {
   "cell_type": "code",
   "execution_count": 9,
   "metadata": {},
   "outputs": [
    {
     "name": "stdout",
     "output_type": "stream",
     "text": [
      "Image size: 32\n",
      "Number of channels: 3\n",
      "Number of classes: 10\n"
     ]
    }
   ],
   "source": [
    "from cifar10 import img_size, num_channels, num_classes\n",
    "print(\"Image size:\" , img_size)\n",
    "print(\"Number of channels:\" , num_channels)\n",
    "print(\"Number of classes:\" , num_classes)"
   ]
  },
  {
   "cell_type": "code",
   "execution_count": 10,
   "metadata": {},
   "outputs": [],
   "source": [
    "def var(name, shape, init=None, std=None):\n",
    "    if init is None:\n",
    "        if std is None:\n",
    "            std = (2./shape[0])**0.5\n",
    "        init = tf.truncated_normal_initializer(stddev=std)\n",
    "    return tf.get_variable(name=name, shape=shape, \n",
    "                           dtype=tf.float32, initializer=init)\n",
    "\n",
    "def conv(X, f, strides=[1, 1, 1, 1], padding='SAME'):\n",
    "    return tf.nn.conv2d(X, f, strides, padding)\n",
    "\n",
    "def max_pool(X, ksize=[1, 2, 2, 1], strides=[1, 2, 2, 1], padding='SAME'):\n",
    "    return tf.nn.max_pool(X, ksize, strides, padding)"
   ]
  },
  {
   "cell_type": "code",
   "execution_count": 11,
   "metadata": {},
   "outputs": [
    {
     "name": "stdout",
     "output_type": "stream",
     "text": [
      "WARNING:tensorflow:From C:\\Users\\og4428\\AppData\\Local\\conda\\conda\\envs\\tf15\\lib\\site-packages\\tensorflow\\contrib\\learn\\python\\learn\\datasets\\base.py:198: retry (from tensorflow.contrib.learn.python.learn.datasets.base) is deprecated and will be removed in a future version.\n",
      "Instructions for updating:\n",
      "Use the retry module or similar alternatives.\n"
     ]
    }
   ],
   "source": [
    "g = tf.Graph()\n",
    "with g.as_default():\n",
    "    X = tf.placeholder(dtype=tf.float32, shape=[None, img_size,img_size,num_channels], name='x')\n",
    "    \n",
    "    Y = tf.placeholder(dtype=tf.float32, shape=[None, num_classes], name='y_true')\n",
    "    I = tf.reshape(X, [-1, img_size,img_size, num_channels])\n",
    "    \n",
    "    \n",
    "    #Conv Layer 1\n",
    "    W1 = var('W1', [5,5, 3, 64])\n",
    "    b1 = var('b1', [64])\n",
    "    out1 = tf.nn.relu(conv(I, W1) + b1)\n",
    "    out1 = max_pool(out1)\n",
    "    \n",
    "    #Conv Layer 2\n",
    "    W2 = var('W2', [5,5, 64, 128])\n",
    "    b2 = var('b2', [128])\n",
    "    out2 = tf.nn.relu(conv(out1, W2) + b2)\n",
    "    out2 = max_pool(out2)\n",
    "    \n",
    "    #Conv Layer 3\n",
    "    W3 = var('W3', [5,5, 128, 256])\n",
    "    b3 = var('b3', [256])\n",
    "    out3 = tf.nn.relu(conv(out2, W3) + b3)\n",
    "    out3 = max_pool(out3)\n",
    "    \n",
    "    #Conv Layer 4\n",
    "    W4 = var('W4', [5,5, 256, 128])\n",
    "    b4 = var('b4', [128])\n",
    "    out4 = tf.nn.relu(conv(out3, W4) + b4)\n",
    "    out4 = max_pool(out4)\n",
    "    \n",
    "    \n",
    "    \n",
    "    flatten = tf.reshape(out4, [-1, 2*2*128])\n",
    "    \n",
    "    #Fully Connected Layer\n",
    "    W5 = var('W5',[2*2*128, 128])\n",
    "    b5 = var('b5',[128])\n",
    "    out5 = tf.nn.relu( tf.matmul(flatten ,W5) + b5 )\n",
    "    \n",
    "    # Output layer\n",
    "    W6 = var('W6',[128,10])\n",
    "    b6 = var('b6',[10])\n",
    "    logits = tf.matmul(out5, W6) + b6\n",
    "    \n",
    "    \n",
    "    \n",
    "    pred = tf.argmax(logits, axis=1)\n",
    "    truth = tf.argmax(Y, axis=1)\n",
    "    acc = tf.reduce_mean(\n",
    "    tf.cast(tf.equal(pred,truth),tf.float32))\n",
    "    \n",
    "    s_loss = tf.nn.softmax_cross_entropy_with_logits_v2(\n",
    "    logits=logits, labels=Y)\n",
    "    loss = tf.reduce_mean(s_loss)\n",
    "    \n",
    "    weights = tf.trainable_variables()\n",
    "    \n",
    "    \n",
    "    #l2_regularizer =  tf.nn.l2_loss(W1) + tf.nn.l2_loss(W2) + tf.nn.l2_loss(W3) + tf.nn.l2_loss(W4)+ tf.nn.l2_loss(W5)+ tf.nn.l2_loss(W6)\n",
    "    #loss = tf.reduce_mean(loss + 0.01 * l2_regularizer)\n",
    "    \n",
    "  \n",
    "    \n",
    "    #L1\n",
    "    l1_regularizer = tf.contrib.layers.l1_regularizer(scale=0.005)\n",
    "    regularization_penalty = tf.contrib.layers.apply_regularization(l1_regularizer, weights)\n",
    "    loss = loss + regularization_penalty # this loss needs to be minimized\n",
    "    \n",
    "    \n",
    "    \n",
    "    step = tf.train.AdamOptimizer().minimize(loss)\n",
    "    \n",
    "    #l1_regularizer = tf.contrib.layers.l1_regularizer()\n",
    "    \n",
    "    #regularization_penalty = tf.contrib.layers.apply_regularization(l1_regularizer, W4)\n",
    "    #regularized_loss = loss + regularization_penalty # this loss needs to be minimized\n",
    "    \n",
    "\n",
    "\n"
   ]
  },
  {
   "cell_type": "code",
   "execution_count": 12,
   "metadata": {},
   "outputs": [],
   "source": [
    "def random_batch():\n",
    "    # Number of images in the training-set.\n",
    "    num_images = len(images_train)\n",
    "\n",
    "    # Create a random index.\n",
    "    idx = np.random.choice(num_images,\n",
    "                           size=batch_size,\n",
    "                           replace=False)\n",
    "\n",
    "    # Use the random index to select random images and labels.\n",
    "    x_batch = images_train[idx, :, :, :]\n",
    "    y_batch = labels_train[idx, :]\n",
    "\n",
    "    return x_batch, y_batch"
   ]
  },
  {
   "cell_type": "code",
   "execution_count": 13,
   "metadata": {},
   "outputs": [],
   "source": [
    "#saver = tf.train.Saver()\n",
    "\n",
    "sess = tf.InteractiveSession(graph=g)\n",
    "tf.global_variables_initializer().run()\n",
    "\n",
    "\n",
    "batch_size = 100\n",
    "rows =  len(images_train)\n",
    "num_epochs = 100\n",
    "iter = int(rows/batch_size)\n",
    "\n",
    "nonzero_weights=[]\n",
    "acc_train=[]\n",
    "acc_test=[]\n"
   ]
  },
  {
   "cell_type": "code",
   "execution_count": 14,
   "metadata": {},
   "outputs": [],
   "source": [
    "def run_test():\n",
    "    \n",
    "    a = 500\n",
    "    accuracy = 0\n",
    "    while a <= 10000:\n",
    "        accuracy +=sess.run(acc,feed_dict={X:images_test[a-500:a,:,:,:],\n",
    "                                          Y:labels_test[a-500:a,:]})\n",
    "        a = a+500\n",
    "\n",
    "\n",
    "    accuracy = accuracy / 20\n",
    "\n",
    "    return accuracy"
   ]
  },
  {
   "cell_type": "code",
   "execution_count": 15,
   "metadata": {},
   "outputs": [
    {
     "name": "stdout",
     "output_type": "stream",
     "text": [
      "Accuracy for train set in epoch  1 :  0.28186000107228754  || loss :  6020.601704101562\n",
      "Accuracy for test set in epoch  1 :  0.321799997985363 \n",
      "\n",
      "Accuracy for train set in epoch  2 :  0.3483600005805492  || loss :  4281.949767578125\n",
      "Accuracy for test set in epoch  2 :  0.34580000042915343 \n",
      "\n",
      "Accuracy for train set in epoch  3 :  0.3708000001907349  || loss :  3988.2972231445315\n",
      "Accuracy for test set in epoch  3 :  0.30979999899864197 \n",
      "\n",
      "Accuracy for train set in epoch  4 :  0.37198000013828275  || loss :  3788.0319106445313\n",
      "Accuracy for test set in epoch  4 :  0.35160000175237655 \n",
      "\n",
      "Accuracy for train set in epoch  5 :  0.3751799995303154  || loss :  3611.2167412109375\n",
      "Accuracy for test set in epoch  5 :  0.3527999982237816 \n",
      "\n",
      "Accuracy for train set in epoch  6 :  0.36591999998688696  || loss :  3443.3717993164064\n",
      "Accuracy for test set in epoch  6 :  0.3487999975681305 \n",
      "\n",
      "Accuracy for train set in epoch  7 :  0.3611600004434586  || loss :  3276.581701171875\n",
      "Accuracy for test set in epoch  7 :  0.3085999995470047 \n",
      "\n",
      "Accuracy for train set in epoch  8 :  0.3371800010204315  || loss :  3107.9713349609374\n",
      "Accuracy for test set in epoch  8 :  0.33270000070333483 \n",
      "\n",
      "Accuracy for train set in epoch  9 :  0.3173400014042854  || loss :  2934.495469238281\n",
      "Accuracy for test set in epoch  9 :  0.3115000009536743 \n",
      "\n",
      "Accuracy for train set in epoch  10 :  0.30368000119924543  || loss :  2755.5922729492186\n",
      "Accuracy for test set in epoch  10 :  0.2692000024020672 \n",
      "\n",
      "Accuracy for train set in epoch  11 :  0.29582000060379504  || loss :  2570.3702783203125\n",
      "Accuracy for test set in epoch  11 :  0.3019999980926514 \n",
      "\n",
      "Accuracy for train set in epoch  12 :  0.30280000150203706  || loss :  2378.4110048828124\n",
      "Accuracy for test set in epoch  12 :  0.273700001090765 \n",
      "\n",
      "Accuracy for train set in epoch  13 :  0.3066200015246868  || loss :  2180.009809082031\n",
      "Accuracy for test set in epoch  13 :  0.33019999563694 \n",
      "\n",
      "Accuracy for train set in epoch  14 :  0.3077800009250641  || loss :  1975.9006848144531\n",
      "Accuracy for test set in epoch  14 :  0.3097000002861023 \n",
      "\n",
      "Accuracy for train set in epoch  15 :  0.3121600010693073  || loss :  1767.3598754882812\n",
      "Accuracy for test set in epoch  15 :  0.31230000108480455 \n",
      "\n",
      "Accuracy for train set in epoch  16 :  0.3187400019466877  || loss :  1556.6688491210937\n",
      "Accuracy for test set in epoch  16 :  0.30819999873638154 \n",
      "\n",
      "Accuracy for train set in epoch  17 :  0.3225600011944771  || loss :  1346.5337639160157\n",
      "Accuracy for test set in epoch  17 :  0.33949999809265136 \n",
      "\n",
      "Accuracy for train set in epoch  18 :  0.3300400013923645  || loss :  1140.8462248535157\n",
      "Accuracy for test set in epoch  18 :  0.32140000313520434 \n",
      "\n",
      "Accuracy for train set in epoch  19 :  0.3536000008583069  || loss :  943.1143262939453\n",
      "Accuracy for test set in epoch  19 :  0.37179999947547915 \n",
      "\n",
      "Accuracy for train set in epoch  20 :  0.3668800004422665  || loss :  757.5427802734375\n",
      "Accuracy for test set in epoch  20 :  0.35999999940395355 \n",
      "\n",
      "Accuracy for train set in epoch  21 :  0.38411999982595446  || loss :  587.8935537719726\n",
      "Accuracy for test set in epoch  21 :  0.3825000002980232 \n",
      "\n",
      "Accuracy for train set in epoch  22 :  0.39801999896764756  || loss :  438.24842376708983\n",
      "Accuracy for test set in epoch  22 :  0.4086000069975853 \n",
      "\n",
      "Accuracy for train set in epoch  23 :  0.40611999833583834  || loss :  311.7272438354492\n",
      "Accuracy for test set in epoch  23 :  0.3778000012040138 \n",
      "\n",
      "Accuracy for train set in epoch  24 :  0.4156199979186058  || loss :  210.702744140625\n",
      "Accuracy for test set in epoch  24 :  0.4038999989628792 \n",
      "\n",
      "Accuracy for train set in epoch  25 :  0.41871999749541283  || loss :  135.2494118499756\n",
      "Accuracy for test set in epoch  25 :  0.43179999887943266 \n",
      "\n",
      "Accuracy for train set in epoch  26 :  0.4216599988937378  || loss :  82.61195109558105\n",
      "Accuracy for test set in epoch  26 :  0.3974000006914139 \n",
      "\n",
      "Accuracy for train set in epoch  27 :  0.4112199986577034  || loss :  48.965050933837894\n",
      "Accuracy for test set in epoch  27 :  0.38419999927282333 \n",
      "\n",
      "Accuracy for train set in epoch  28 :  0.39535999891161916  || loss :  29.033305084228516\n",
      "Accuracy for test set in epoch  28 :  0.36770000159740446 \n",
      "\n",
      "Accuracy for train set in epoch  29 :  0.38060000079870226  || loss :  17.895480407714842\n",
      "Accuracy for test set in epoch  29 :  0.37670000046491625 \n",
      "\n",
      "Accuracy for train set in epoch  30 :  0.37918000015616415  || loss :  11.892140827178956\n",
      "Accuracy for test set in epoch  30 :  0.3863000005483627 \n",
      "\n",
      "Accuracy for train set in epoch  31 :  0.3785199993252754  || loss :  8.726557321548462\n",
      "Accuracy for test set in epoch  31 :  0.37510000020265577 \n",
      "\n",
      "Accuracy for train set in epoch  32 :  0.38395999994874  || loss :  6.9649219884872435\n",
      "Accuracy for test set in epoch  32 :  0.37650000005960466 \n",
      "\n",
      "Accuracy for train set in epoch  33 :  0.38803999963402747  || loss :  5.881188237190247\n",
      "Accuracy for test set in epoch  33 :  0.38569999784231185 \n",
      "\n",
      "Accuracy for train set in epoch  34 :  0.38873999935388565  || loss :  5.197017578125\n",
      "Accuracy for test set in epoch  34 :  0.3742999956011772 \n",
      "\n",
      "Accuracy for train set in epoch  35 :  0.39407999873161315  || loss :  4.707244819641113\n",
      "Accuracy for test set in epoch  35 :  0.3937000006437302 \n",
      "\n",
      "Accuracy for train set in epoch  36 :  0.39501999962329865  || loss :  4.365393602371216\n",
      "Accuracy for test set in epoch  36 :  0.40560000091791154 \n",
      "\n",
      "Accuracy for train set in epoch  37 :  0.40145999917387964  || loss :  4.117703547477722\n",
      "Accuracy for test set in epoch  37 :  0.41110000014305115 \n",
      "\n",
      "Accuracy for train set in epoch  38 :  0.4017399986386299  || loss :  3.9451850357055664\n",
      "Accuracy for test set in epoch  38 :  0.40419999659061434 \n",
      "\n",
      "Accuracy for train set in epoch  39 :  0.4016399982571602  || loss :  3.7872571811676026\n",
      "Accuracy for test set in epoch  39 :  0.3994000032544136 \n",
      "\n",
      "Accuracy for train set in epoch  40 :  0.40785999870300294  || loss :  3.6696629853248597\n",
      "Accuracy for test set in epoch  40 :  0.4124999985098839 \n",
      "\n",
      "Accuracy for train set in epoch  41 :  0.40695999848842623  || loss :  3.5774173197746277\n",
      "Accuracy for test set in epoch  41 :  0.4174000009894371 \n",
      "\n",
      "Accuracy for train set in epoch  42 :  0.405779998332262  || loss :  3.5020776147842407\n",
      "Accuracy for test set in epoch  42 :  0.41869999915361406 \n",
      "\n",
      "Accuracy for train set in epoch  43 :  0.40795999854803083  || loss :  3.4310391674041747\n",
      "Accuracy for test set in epoch  43 :  0.416499999165535 \n",
      "\n",
      "Accuracy for train set in epoch  44 :  0.40951999896764757  || loss :  3.3830839834213258\n",
      "Accuracy for test set in epoch  44 :  0.4075999990105629 \n",
      "\n",
      "Accuracy for train set in epoch  45 :  0.41157999908924103  || loss :  3.329505372047424\n",
      "Accuracy for test set in epoch  45 :  0.419300003349781 \n",
      "\n",
      "Accuracy for train set in epoch  46 :  0.40989999830722806  || loss :  3.292261767864227\n",
      "Accuracy for test set in epoch  46 :  0.40830000042915343 \n",
      "\n",
      "Accuracy for train set in epoch  47 :  0.40641999793052674  || loss :  3.2604717893600466\n",
      "Accuracy for test set in epoch  47 :  0.4138999983668327 \n",
      "\n",
      "Accuracy for train set in epoch  48 :  0.4103199983239174  || loss :  3.2189511904716492\n",
      "Accuracy for test set in epoch  48 :  0.4022999987006187 \n",
      "\n",
      "Accuracy for train set in epoch  49 :  0.4095199972987175  || loss :  3.203160943508148\n",
      "Accuracy for test set in epoch  49 :  0.41549999713897706 \n",
      "\n",
      "Accuracy for train set in epoch  50 :  0.4144399983286858  || loss :  3.169844208240509\n",
      "Accuracy for test set in epoch  50 :  0.4216999992728233 \n",
      "\n",
      "Accuracy for train set in epoch  51 :  0.4115599985718727  || loss :  3.1626528053283693\n",
      "Accuracy for test set in epoch  51 :  0.413400000333786 \n",
      "\n",
      "Accuracy for train set in epoch  52 :  0.411999998152256  || loss :  3.1420758605003356\n",
      "Accuracy for test set in epoch  52 :  0.4152999997138977 \n",
      "\n",
      "Accuracy for train set in epoch  53 :  0.41199999827146533  || loss :  3.129109754562378\n",
      "Accuracy for test set in epoch  53 :  0.4249999985098839 \n",
      "\n",
      "Accuracy for train set in epoch  54 :  0.4138199980854988  || loss :  3.1120099081993104\n",
      "Accuracy for test set in epoch  54 :  0.42110000252723695 \n",
      "\n",
      "Accuracy for train set in epoch  55 :  0.4172399981021881  || loss :  3.0979453291893004\n",
      "Accuracy for test set in epoch  55 :  0.4176999986171722 \n",
      "\n",
      "Accuracy for train set in epoch  56 :  0.4172999981045723  || loss :  3.083489680290222\n",
      "Accuracy for test set in epoch  56 :  0.41859999895095823 \n",
      "\n"
     ]
    },
    {
     "name": "stdout",
     "output_type": "stream",
     "text": [
      "Accuracy for train set in epoch  57 :  0.4205199980139732  || loss :  3.0775820240974427\n",
      "Accuracy for test set in epoch  57 :  0.42580000013113023 \n",
      "\n",
      "Accuracy for train set in epoch  58 :  0.41427999854087827  || loss :  3.0716680274009707\n",
      "Accuracy for test set in epoch  58 :  0.41500000059604647 \n",
      "\n",
      "Accuracy for train set in epoch  59 :  0.4196799980401993  || loss :  3.052602740764618\n",
      "Accuracy for test set in epoch  59 :  0.4176000013947487 \n",
      "\n",
      "Accuracy for train set in epoch  60 :  0.4191199987530708  || loss :  3.0523610062599182\n",
      "Accuracy for test set in epoch  60 :  0.42870000302791594 \n",
      "\n",
      "Accuracy for train set in epoch  61 :  0.4187199985384941  || loss :  3.0427363147735598\n",
      "Accuracy for test set in epoch  61 :  0.4233999982476234 \n",
      "\n",
      "Accuracy for train set in epoch  62 :  0.4207399984002113  || loss :  3.0383341903686523\n",
      "Accuracy for test set in epoch  62 :  0.43179999738931657 \n",
      "\n",
      "Accuracy for train set in epoch  63 :  0.4158599984049797  || loss :  3.041739938259125\n",
      "Accuracy for test set in epoch  63 :  0.42200000286102296 \n",
      "\n",
      "Accuracy for train set in epoch  64 :  0.4226599977612495  || loss :  3.0287994804382325\n",
      "Accuracy for test set in epoch  64 :  0.4215000033378601 \n",
      "\n",
      "Accuracy for train set in epoch  65 :  0.42043999791145326  || loss :  3.021160364151001\n",
      "Accuracy for test set in epoch  65 :  0.42490000277757645 \n",
      "\n",
      "Accuracy for train set in epoch  66 :  0.41819999808073044  || loss :  3.0269219131469725\n",
      "Accuracy for test set in epoch  66 :  0.4241000026464462 \n",
      "\n",
      "Accuracy for train set in epoch  67 :  0.4188999987244606  || loss :  3.022708302497864\n",
      "Accuracy for test set in epoch  67 :  0.4260000005364418 \n",
      "\n",
      "Accuracy for train set in epoch  68 :  0.42461999756097796  || loss :  3.0084782333374025\n",
      "Accuracy for test set in epoch  68 :  0.4149000018835068 \n",
      "\n",
      "Accuracy for train set in epoch  69 :  0.4191799983382225  || loss :  3.0129662303924563\n",
      "Accuracy for test set in epoch  69 :  0.4206000030040741 \n",
      "\n",
      "Accuracy for train set in epoch  70 :  0.4204999977350235  || loss :  3.006206994533539\n",
      "Accuracy for test set in epoch  70 :  0.4214000001549721 \n",
      "\n",
      "Accuracy for train set in epoch  71 :  0.4207999976873398  || loss :  3.0048027849197387\n",
      "Accuracy for test set in epoch  71 :  0.4295999974012375 \n",
      "\n",
      "Accuracy for train set in epoch  72 :  0.41621999835968015  || loss :  3.010348183631897\n",
      "Accuracy for test set in epoch  72 :  0.4306999981403351 \n",
      "\n",
      "Accuracy for train set in epoch  73 :  0.4247199985980988  || loss :  2.9921888818740845\n",
      "Accuracy for test set in epoch  73 :  0.41979999989271166 \n",
      "\n",
      "Accuracy for train set in epoch  74 :  0.42513999807834624  || loss :  2.9935385222434996\n",
      "Accuracy for test set in epoch  74 :  0.42939999997615813 \n",
      "\n",
      "Accuracy for train set in epoch  75 :  0.42511999791860583  || loss :  2.989468883037567\n",
      "Accuracy for test set in epoch  75 :  0.4236999973654747 \n",
      "\n",
      "Accuracy for train set in epoch  76 :  0.42189999759197233  || loss :  2.9937082061767577\n",
      "Accuracy for test set in epoch  76 :  0.39780000001192095 \n",
      "\n",
      "Accuracy for train set in epoch  77 :  0.42259999811649324  || loss :  2.987185717582703\n",
      "Accuracy for test set in epoch  77 :  0.4170999974012375 \n",
      "\n",
      "Accuracy for train set in epoch  78 :  0.420879998087883  || loss :  2.9855406289100648\n",
      "Accuracy for test set in epoch  78 :  0.42539999783039095 \n",
      "\n",
      "Accuracy for train set in epoch  79 :  0.4226199985742569  || loss :  2.990148627281189\n",
      "Accuracy for test set in epoch  79 :  0.41790000051259996 \n",
      "\n",
      "Accuracy for train set in epoch  80 :  0.4244799984097481  || loss :  2.9795105690956114\n",
      "Accuracy for test set in epoch  80 :  0.4349000006914139 \n",
      "\n",
      "Accuracy for train set in epoch  81 :  0.4281799977421761  || loss :  2.9711238656044006\n",
      "Accuracy for test set in epoch  81 :  0.425900000333786 \n",
      "\n",
      "Accuracy for train set in epoch  82 :  0.42703999823331834  || loss :  2.975819298744202\n",
      "Accuracy for test set in epoch  82 :  0.4283000022172928 \n",
      "\n",
      "Accuracy for train set in epoch  83 :  0.4211799983382225  || loss :  2.98602822971344\n",
      "Accuracy for test set in epoch  83 :  0.4356000036001205 \n",
      "\n",
      "Accuracy for train set in epoch  84 :  0.42205999863147736  || loss :  2.980899935245514\n",
      "Accuracy for test set in epoch  84 :  0.4325000002980232 \n",
      "\n",
      "Accuracy for train set in epoch  85 :  0.4220399979352951  || loss :  2.9810712037086486\n",
      "Accuracy for test set in epoch  85 :  0.43020000010728837 \n",
      "\n",
      "Accuracy for train set in epoch  86 :  0.42849999779462816  || loss :  2.971559607505798\n",
      "Accuracy for test set in epoch  86 :  0.42559999972581863 \n",
      "\n",
      "Accuracy for train set in epoch  87 :  0.4273399983644485  || loss :  2.9684739837646483\n",
      "Accuracy for test set in epoch  87 :  0.4326000019907951 \n",
      "\n",
      "Accuracy for train set in epoch  88 :  0.4280999980568886  || loss :  2.9657616686820982\n",
      "Accuracy for test set in epoch  88 :  0.4189999997615814 \n",
      "\n",
      "Accuracy for train set in epoch  89 :  0.4260399980545044  || loss :  2.9706685729026794\n",
      "Accuracy for test set in epoch  89 :  0.4320999994874001 \n",
      "\n",
      "Accuracy for train set in epoch  90 :  0.42265999841690066  || loss :  2.964218969345093\n",
      "Accuracy for test set in epoch  90 :  0.4186000019311905 \n",
      "\n",
      "Accuracy for train set in epoch  91 :  0.42805999898910524  || loss :  2.9646752343177796\n",
      "Accuracy for test set in epoch  91 :  0.4307000026106834 \n",
      "\n",
      "Accuracy for train set in epoch  92 :  0.4237799981236458  || loss :  2.968165015220642\n",
      "Accuracy for test set in epoch  92 :  0.4246999964118004 \n",
      "\n",
      "Accuracy for train set in epoch  93 :  0.42505999785661697  || loss :  2.9660814681053163\n",
      "Accuracy for test set in epoch  93 :  0.43319999873638154 \n",
      "\n",
      "Accuracy for train set in epoch  94 :  0.42635999810695646  || loss :  2.9594246096611023\n",
      "Accuracy for test set in epoch  94 :  0.437200003862381 \n",
      "\n",
      "Accuracy for train set in epoch  95 :  0.42651999735832213  || loss :  2.9640502157211306\n",
      "Accuracy for test set in epoch  95 :  0.420100000500679 \n",
      "\n",
      "Accuracy for train set in epoch  96 :  0.43129999816417697  || loss :  2.958251289367676\n",
      "Accuracy for test set in epoch  96 :  0.43389999866485596 \n",
      "\n",
      "Accuracy for train set in epoch  97 :  0.42723999720811845  || loss :  2.956897885799408\n",
      "Accuracy for test set in epoch  97 :  0.43359999507665636 \n",
      "\n",
      "Accuracy for train set in epoch  98 :  0.42829999858140944  || loss :  2.9577111740112305\n",
      "Accuracy for test set in epoch  98 :  0.43920000046491625 \n",
      "\n",
      "Accuracy for train set in epoch  99 :  0.4284199984073639  || loss :  2.9582534322738647\n",
      "Accuracy for test set in epoch  99 :  0.42259999811649324 \n",
      "\n",
      "Accuracy for train set in epoch  100 :  0.42479999822378156  || loss :  2.961187253475189\n",
      "Accuracy for test set in epoch  100 :  0.4348000004887581 \n",
      "\n"
     ]
    }
   ],
   "source": [
    "for epoch in range(num_epochs):\n",
    "    epoch_acc = 0\n",
    "    epoch_loss = 0\n",
    "    \n",
    "    for i in range(iter):\n",
    "        \n",
    "        x_batch, y_batch =  random_batch()\n",
    "        _, l,a,w1,w2,w3,w4 = sess.run([step,loss, acc,W1,W2,W3,W4], feed_dict={X:x_batch, Y:y_batch})\n",
    "        \n",
    "        \n",
    "        \n",
    "        epoch_acc += a\n",
    "        epoch_loss += l\n",
    "        \n",
    "    \n",
    "    \n",
    "    zeroweights = (w1.size + w2.size + w3.size + w4.size) - (np.count_nonzero(w1) + np.count_nonzero(w2) + np.count_nonzero(w3) + np.count_nonzero(w4))\n",
    "    nonzero_weights.append(zeroweights)\n",
    "    a_test = run_test()\n",
    "    acc_train.append(epoch_acc / iter)\n",
    "    acc_test.append(a_test)\n",
    "    print(\"Accuracy for train set in epoch \", epoch+1, \": \" , epoch_acc / iter ,\" || loss : \" ,epoch_loss / iter\n",
    "          ,end='\\n')\n",
    "    print(\"Accuracy for test set in epoch \", epoch+1, \": \" , a_test ,'\\n',end='\\n')\n",
    "\n",
    "\n",
    "    #saver.save(sess,'./')\n",
    "            "
   ]
  },
  {
   "cell_type": "markdown",
   "metadata": {},
   "source": [
    "# Graphs"
   ]
  },
  {
   "cell_type": "code",
   "execution_count": 18,
   "metadata": {},
   "outputs": [
    {
     "data": {
      "image/png": "[encoded data removed]",
      "text/plain": [
       "<Figure size 432x288 with 1 Axes>"
      ]
     },
     "metadata": {},
     "output_type": "display_data"
    }
   ],
   "source": [
    "e = np.arange(1,num_epochs+1)\n",
    "plt.plot(e,acc_train)\n",
    "plt.plot(e,acc_test)\n",
    "plt.xlabel(\"Number of Epochs\")\n",
    "plt.ylabel(\"Accuracy\")\n",
    "\n",
    "plt.legend(['Train Accuracy', 'Test Accuracy'], loc='lower right')\n",
    "\n",
    "plt.show()"
   ]
  },
  {
   "cell_type": "code",
   "execution_count": 19,
   "metadata": {},
   "outputs": [
    {
     "data": {
      "image/png": "[encoded data removed]",
      "text/plain": [
       "<Figure size 432x288 with 1 Axes>"
      ]
     },
     "metadata": {},
     "output_type": "display_data"
    }
   ],
   "source": [
    "plt.plot(e,nonzero_weights)\n",
    "\n",
    "plt.xlabel(\"Number of Epochs\")\n",
    "plt.ylabel(\"Nonzero Weights\")\n",
    "\n",
    "plt.show()"
   ]
  }
 ],
 "metadata": {
  "anaconda-cloud": {},
  "kernelspec": {
   "display_name": "Python 3",
   "language": "python",
   "name": "python3"
  },
  "language_info": {
   "codemirror_mode": {
    "name": "ipython",
    "version": 3
   },
   "file_extension": ".py",
   "mimetype": "text/x-python",
   "name": "python",
   "nbconvert_exporter": "python",
   "pygments_lexer": "ipython3",
   "version": "3.6.7"
  }
 },
 "nbformat": 4,
 "nbformat_minor": 1
}
